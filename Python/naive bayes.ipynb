{
 "cells": [
  {
   "cell_type": "markdown",
   "metadata": {},
   "source": [
    "# Naive Bayes"
   ]
  },
  {
   "cell_type": "code",
   "execution_count": 2,
   "metadata": {},
   "outputs": [
    {
     "name": "stdout",
     "output_type": "stream",
     "text": [
      "G:\\Archive\n"
     ]
    }
   ],
   "source": [
    "import numpy as np\n",
    "import pandas as pd\n",
    "from sklearn.model_selection import train_test_split, GridSearchCV \n",
    "from sklearn.naive_bayes import GaussianNB\n",
    "from sklearn import metrics\n",
    "\n",
    "%cd \"G:/Archive\""
   ]
  },
  {
   "cell_type": "markdown",
   "metadata": {},
   "source": [
    "## Data Prep"
   ]
  },
  {
   "cell_type": "code",
   "execution_count": 4,
   "metadata": {},
   "outputs": [],
   "source": [
    "#load data\n",
    "data = pd.read_csv(\"data/wine quality red.csv\", header = 0)\n",
    "\n",
    "#aggregate into binary classification problem\n",
    "data[\"quality\"] = pd.Categorical(np.where(data[\"quality\"] > 5, \"above_avg\", \"below_avg\"))\n",
    "\n",
    "#split data\n",
    "X = data.iloc[:, :11]\n",
    "y = data.iloc[:, 11]\n",
    "X_train, X_test, y_train, y_test = train_test_split(X, y, test_size = 0.2, random_state = 1234)"
   ]
  },
  {
   "cell_type": "markdown",
   "metadata": {},
   "source": [
    "## Searching Optimal Parameters"
   ]
  },
  {
   "cell_type": "code",
   "execution_count": 11,
   "metadata": {},
   "outputs": [
    {
     "name": "stdout",
     "output_type": "stream",
     "text": [
      "Best score:  0.7114849901574802\n",
      "Corresponding parms:  {'var_smoothing': 0.0001}\n",
      "Model description:  GaussianNB(priors=None, var_smoothing=0.0001)\n",
      "Accuracy: 0.7594\n",
      "Recall: 0.7500\n",
      "Precision: 0.7914\n",
      "F1 score: 0.7701\n"
     ]
    }
   ],
   "source": [
    "#all predictors are continuous variables in this case\n",
    "#GaussianNB is the proper classifier function\n",
    "#var_smoothing is the tuning parameter\n",
    "#10-fold cv with accuracy as target metrics\n",
    "grid1 = {\"var_smoothing\": 1 / np.power(10, range(5))}\n",
    "model1 = GridSearchCV(GaussianNB(), param_grid = grid1, cv = 10, scoring = \"accuracy\")\n",
    "model1.fit(X_train, y_train)\n",
    "\n",
    "#show tuning results\n",
    "print(\"Best score: \", model1.best_score_)\n",
    "print(\"Corresponding parms: \", model1.best_params_)\n",
    "print(\"Model description: \", model1.best_estimator_)\n",
    "\n",
    "#predict on test set\n",
    "pred1 = model1.predict(X_test)\n",
    "\n",
    "#show prediction performance\n",
    "print(\"Accuracy: {0:.4f}\".format(metrics.accuracy_score(y_test, pred1)))\n",
    "print(\"Recall: {0:.4f}\".format(metrics.recall_score(y_test, pred1, pos_label = \"above_avg\", average = \"binary\")))\n",
    "print(\"Precision: {0:.4f}\".format(metrics.precision_score(y_test, pred1, pos_label = \"above_avg\", average = \"binary\")))\n",
    "print(\"F1 score: {0:.4f}\".format(metrics.f1_score(y_test, pred1, pos_label = \"above_avg\", average = \"binary\")))"
   ]
  },
  {
   "cell_type": "markdown",
   "metadata": {},
   "source": [
    "## Visualization"
   ]
  },
  {
   "cell_type": "code",
   "execution_count": null,
   "metadata": {},
   "outputs": [],
   "source": []
  },
  {
   "cell_type": "code",
   "execution_count": null,
   "metadata": {},
   "outputs": [],
   "source": []
  },
  {
   "cell_type": "code",
   "execution_count": null,
   "metadata": {},
   "outputs": [],
   "source": []
  },
  {
   "cell_type": "code",
   "execution_count": null,
   "metadata": {},
   "outputs": [],
   "source": []
  },
  {
   "cell_type": "code",
   "execution_count": null,
   "metadata": {},
   "outputs": [],
   "source": []
  }
 ],
 "metadata": {
  "kernelspec": {
   "display_name": "Python 3",
   "language": "python",
   "name": "python3"
  },
  "language_info": {
   "codemirror_mode": {
    "name": "ipython",
    "version": 3
   },
   "file_extension": ".py",
   "mimetype": "text/x-python",
   "name": "python",
   "nbconvert_exporter": "python",
   "pygments_lexer": "ipython3",
   "version": "3.7.3"
  }
 },
 "nbformat": 4,
 "nbformat_minor": 2
}
