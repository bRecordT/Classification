{
 "cells": [
  {
   "cell_type": "markdown",
   "metadata": {},
   "source": [
    "# Boosting\n",
    "Example implementation of boosting algorithms, including:\n",
    "* Adaboost\n",
    "* Gradient boosting\n",
    "* XGboost"
   ]
  },
  {
   "cell_type": "code",
   "execution_count": 12,
   "metadata": {},
   "outputs": [
    {
     "name": "stdout",
     "output_type": "stream",
     "text": [
      "G:\\Archive\n"
     ]
    }
   ],
   "source": [
    "import numpy as np\n",
    "import pandas as pd\n",
    "from sklearn.model_selection import train_test_split, GridSearchCV \n",
    "from sklearn.ensemble import AdaBoostClassifier, GradientBoostingClassifier\n",
    "from sklearn import metrics\n",
    "import xgboost as xgb\n",
    "\n",
    "%cd \"G:/Archive\""
   ]
  },
  {
   "cell_type": "markdown",
   "metadata": {},
   "source": [
    "## Data Prep"
   ]
  },
  {
   "cell_type": "code",
   "execution_count": 13,
   "metadata": {},
   "outputs": [],
   "source": [
    "#load data\n",
    "data = pd.read_csv(\"data/wine quality red.csv\", header = 0)\n",
    "\n",
    "#aggregate into binary classification problem\n",
    "data[\"quality\"] = pd.Categorical(np.where(data[\"quality\"] > 5, \"above_avg\", \"below_avg\"))\n",
    "\n",
    "#split data\n",
    "X = data.iloc[:, :11]\n",
    "y = data.iloc[:, 11]\n",
    "X_train, X_test, y_train, y_test = train_test_split(X, y, test_size = 0.2, random_state = 1234)"
   ]
  },
  {
   "cell_type": "markdown",
   "metadata": {},
   "source": [
    "## Searching Optimal Parameters\n",
    "### Adaboost"
   ]
  },
  {
   "cell_type": "code",
   "execution_count": 8,
   "metadata": {
    "scrolled": true
   },
   "outputs": [
    {
     "name": "stdout",
     "output_type": "stream",
     "text": [
      "Best score:  0.7536663385826772\n",
      "Corresponding parms:  {'learning_rate': 0.8, 'n_estimators': 100}\n",
      "Model description:  AdaBoostClassifier(algorithm='SAMME.R', base_estimator=None, learning_rate=0.8,\n",
      "                   n_estimators=100, random_state=None)\n",
      "Accuracy: 0.7688\n",
      "Recall: 0.8023\n",
      "Precision: 0.7753\n",
      "F1 score: 0.7886\n"
     ]
    }
   ],
   "source": [
    "#tuning parameters: n_estimators, learning_rate\n",
    "#10-fold cv with accuracy as target metrics\n",
    "grid1 = {\"n_estimators\": 50 * np.arange(1, 5),\n",
    "         \"learning_rate\": 0.1 * np.arange(1, 11)}\n",
    "model1 = GridSearchCV(AdaBoostClassifier(), param_grid = grid1, cv = 10, scoring = \"accuracy\")\n",
    "model1.fit(X_train, y_train)\n",
    "\n",
    "#show tuning results\n",
    "print(\"Best score: \", model1.best_score_)\n",
    "print(\"Corresponding parms: \", model1.best_params_)\n",
    "print(\"Model description: \", model1.best_estimator_)\n",
    "\n",
    "#predict on test set\n",
    "pred1 = model1.predict(X_test)\n",
    "\n",
    "#show prediction performance\n",
    "print(\"Accuracy: {0:.4f}\".format(metrics.accuracy_score(y_test, pred1)))\n",
    "print(\"Recall: {0:.4f}\".format(metrics.recall_score(y_test, pred1, pos_label = \"above_avg\", average = \"binary\")))\n",
    "print(\"Precision: {0:.4f}\".format(metrics.precision_score(y_test, pred1, pos_label = \"above_avg\", average = \"binary\")))\n",
    "print(\"F1 score: {0:.4f}\".format(metrics.f1_score(y_test, pred1, pos_label = \"above_avg\", average = \"binary\")))"
   ]
  },
  {
   "cell_type": "markdown",
   "metadata": {},
   "source": [
    "### Gradient Descend"
   ]
  },
  {
   "cell_type": "code",
   "execution_count": 10,
   "metadata": {},
   "outputs": [
    {
     "name": "stdout",
     "output_type": "stream",
     "text": [
      "Best score:  0.7974778543307087\n",
      "Corresponding parms:  {'learning_rate': 0.2, 'max_depth': 3, 'n_estimators': 100}\n",
      "Model description:  GradientBoostingClassifier(ccp_alpha=0.0, criterion='friedman_mse', init=None,\n",
      "                           learning_rate=0.2, loss='deviance', max_depth=3,\n",
      "                           max_features=None, max_leaf_nodes=None,\n",
      "                           min_impurity_decrease=0.0, min_impurity_split=None,\n",
      "                           min_samples_leaf=1, min_samples_split=2,\n",
      "                           min_weight_fraction_leaf=0.0, n_estimators=100,\n",
      "                           n_iter_no_change=None, presort='deprecated',\n",
      "                           random_state=None, subsample=1.0, tol=0.0001,\n",
      "                           validation_fraction=0.1, verbose=0,\n",
      "                           warm_start=False)\n",
      "Accuracy: 0.8000\n",
      "Recall: 0.8081\n",
      "Precision: 0.8176\n",
      "F1 score: 0.8129\n"
     ]
    }
   ],
   "source": [
    "#tuning parameters: n_estimators, learning_rate, max_depth\n",
    "#minimum node size of tree is set as default\n",
    "#10-fold cv with accuracy as target metrics\n",
    "grid2 = {\"n_estimators\": 50 * np.arange(1, 5),\n",
    "         \"learning_rate\": 0.1 * np.arange(1, 11),\n",
    "         \"max_depth\": range(1, 5)}\n",
    "model2 = GridSearchCV(GradientBoostingClassifier(), param_grid = grid2, cv = 10, scoring = \"accuracy\")\n",
    "model2.fit(X_train, y_train)\n",
    "\n",
    "#show tuning results\n",
    "print(\"Best score: \", model2.best_score_)\n",
    "print(\"Corresponding parms: \", model2.best_params_)\n",
    "print(\"Model description: \", model2.best_estimator_)\n",
    "\n",
    "#predict on test set\n",
    "pred2 = model2.predict(X_test)\n",
    "\n",
    "#show prediction performance\n",
    "print(\"Accuracy: {0:.4f}\".format(metrics.accuracy_score(y_test, pred2)))\n",
    "print(\"Recall: {0:.4f}\".format(metrics.recall_score(y_test, pred2, pos_label = \"above_avg\", average = \"binary\")))\n",
    "print(\"Precision: {0:.4f}\".format(metrics.precision_score(y_test, pred2, pos_label = \"above_avg\", average = \"binary\")))\n",
    "print(\"F1 score: {0:.4f}\".format(metrics.f1_score(y_test, pred2, pos_label = \"above_avg\", average = \"binary\")))"
   ]
  },
  {
   "cell_type": "markdown",
   "metadata": {},
   "source": [
    "### XGboost"
   ]
  },
  {
   "cell_type": "code",
   "execution_count": 16,
   "metadata": {},
   "outputs": [
    {
     "name": "stdout",
     "output_type": "stream",
     "text": [
      "Best score:  0.7849840059055119\n",
      "Corresponding parms:  {'learning_rate': 0.1, 'max_depth': 4, 'n_estimators': 200}\n",
      "Model description:  XGBClassifier(base_score=0.5, booster='gbtree', colsample_bylevel=1,\n",
      "              colsample_bynode=1, colsample_bytree=0.5, gamma=0,\n",
      "              learning_rate=0.1, max_delta_step=0, max_depth=4,\n",
      "              min_child_weight=1, missing=None, n_estimators=200, n_jobs=1,\n",
      "              nthread=None, objective='binary:logistic', random_state=0,\n",
      "              reg_alpha=0, reg_lambda=1, scale_pos_weight=1, seed=None,\n",
      "              silent=None, subsample=0.5, verbosity=1)\n",
      "Accuracy: 0.8125\n",
      "Recall: 0.8198\n",
      "Precision: 0.8294\n",
      "F1 score: 0.8246\n"
     ]
    }
   ],
   "source": [
    "#tuning parameters: n_estimators, learning_rate, max_depth\n",
    "#minimum node size of tree is set as default\n",
    "#10-fold cv with accuracy as target metrics\n",
    "#introducing randomness by tree using parameters: subsample and colsample_bytree\n",
    "#gbtree as the base estimator with no regularization in the example\n",
    "grid3 = {\"n_estimators\": 50 * np.arange(1, 5),\n",
    "         \"learning_rate\": 0.1 * np.arange(1, 11), #eta in XGboost\n",
    "         \"max_depth\": range(1, 5)}\n",
    "model3 = GridSearchCV(xgb.XGBClassifier(subsample = 0.5, colsample_bytree = 0.5), param_grid = grid3, cv = 10, scoring = \"accuracy\")\n",
    "model3.fit(X_train, y_train)\n",
    "\n",
    "#show tuning results\n",
    "print(\"Best score: \", model3.best_score_)\n",
    "print(\"Corresponding parms: \", model3.best_params_)\n",
    "print(\"Model description: \", model3.best_estimator_)\n",
    "\n",
    "#predict on test set\n",
    "pred3 = model3.predict(X_test)\n",
    "\n",
    "#show prediction performance\n",
    "print(\"Accuracy: {0:.4f}\".format(metrics.accuracy_score(y_test, pred3)))\n",
    "print(\"Recall: {0:.4f}\".format(metrics.recall_score(y_test, pred3, pos_label = \"above_avg\", average = \"binary\")))\n",
    "print(\"Precision: {0:.4f}\".format(metrics.precision_score(y_test, pred3, pos_label = \"above_avg\", average = \"binary\")))\n",
    "print(\"F1 score: {0:.4f}\".format(metrics.f1_score(y_test, pred3, pos_label = \"above_avg\", average = \"binary\")))"
   ]
  },
  {
   "cell_type": "markdown",
   "metadata": {},
   "source": [
    "## Visualization"
   ]
  },
  {
   "cell_type": "code",
   "execution_count": null,
   "metadata": {},
   "outputs": [],
   "source": []
  },
  {
   "cell_type": "code",
   "execution_count": null,
   "metadata": {},
   "outputs": [],
   "source": []
  },
  {
   "cell_type": "code",
   "execution_count": null,
   "metadata": {},
   "outputs": [],
   "source": []
  },
  {
   "cell_type": "code",
   "execution_count": null,
   "metadata": {},
   "outputs": [],
   "source": []
  },
  {
   "cell_type": "code",
   "execution_count": null,
   "metadata": {},
   "outputs": [],
   "source": []
  }
 ],
 "metadata": {
  "kernelspec": {
   "display_name": "Python 3",
   "language": "python",
   "name": "python3"
  },
  "language_info": {
   "codemirror_mode": {
    "name": "ipython",
    "version": 3
   },
   "file_extension": ".py",
   "mimetype": "text/x-python",
   "name": "python",
   "nbconvert_exporter": "python",
   "pygments_lexer": "ipython3",
   "version": "3.7.3"
  }
 },
 "nbformat": 4,
 "nbformat_minor": 2
}
