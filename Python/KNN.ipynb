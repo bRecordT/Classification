{
 "cells": [
  {
   "cell_type": "markdown",
   "metadata": {},
   "source": [
    "# K-Nearest Neighbors"
   ]
  },
  {
   "cell_type": "code",
   "execution_count": 29,
   "metadata": {},
   "outputs": [
    {
     "name": "stdout",
     "output_type": "stream",
     "text": [
      "G:\\Archive\n"
     ]
    }
   ],
   "source": [
    "import numpy as np\n",
    "import pandas as pd\n",
    "from sklearn.model_selection import train_test_split, GridSearchCV \n",
    "from sklearn.neighbors import KNeighborsClassifier\n",
    "from sklearn import metrics, preprocessing\n",
    "\n",
    "%cd \"G:/Archive\""
   ]
  },
  {
   "cell_type": "markdown",
   "metadata": {},
   "source": [
    "## Data Prep"
   ]
  },
  {
   "cell_type": "code",
   "execution_count": 25,
   "metadata": {},
   "outputs": [],
   "source": [
    "#load data\n",
    "data = pd.read_csv(\"data/wine quality red.csv\", header = 0)\n",
    "\n",
    "#aggregate into binary classification problem\n",
    "data[\"quality\"] = pd.Categorical(np.where(data[\"quality\"] > 5, \"above_avg\", \"below_avg\"))\n",
    "\n",
    "#split data\n",
    "X = data.iloc[:, :11]\n",
    "y = data.iloc[:, 11]\n",
    "X_train, X_test, y_train, y_test = train_test_split(X, y, test_size = 0.2, random_state = 1234)"
   ]
  },
  {
   "cell_type": "markdown",
   "metadata": {},
   "source": [
    "## Searching Optimal Parameters\n",
    "KNN is essentially measuring distance between sample points, so it is sensitive to numerical scales of variables.\n",
    "### No scaling"
   ]
  },
  {
   "cell_type": "code",
   "execution_count": 27,
   "metadata": {},
   "outputs": [
    {
     "name": "stdout",
     "output_type": "stream",
     "text": [
      "Best score:  0.6935285433070866\n",
      "Corresponding parms:  {'n_neighbors': 1}\n",
      "Model description:  KNeighborsClassifier(algorithm='auto', leaf_size=30, metric='minkowski',\n",
      "                     metric_params=None, n_jobs=None, n_neighbors=1, p=2,\n",
      "                     weights='uniform')\n",
      "Accuracy: 0.7312\n",
      "Recall: 0.7442\n",
      "Precision: 0.7529\n",
      "F1 score: 0.7485\n"
     ]
    }
   ],
   "source": [
    "#10-fold cv with accuracy as target metrics\n",
    "grid1 = {\"n_neighbors\": range(1, 11)}\n",
    "model1 = GridSearchCV(KNeighborsClassifier(), param_grid = grid1, cv = 10, scoring = \"accuracy\")\n",
    "model1.fit(X_train, y_train)\n",
    "\n",
    "#show tuning results\n",
    "print(\"Best score: \", model1.best_score_)\n",
    "print(\"Corresponding parms: \", model1.best_params_)\n",
    "print(\"Model description: \", model1.best_estimator_)\n",
    "\n",
    "#predict on test set\n",
    "pred1 = model1.predict(X_test)\n",
    "\n",
    "#show prediction performance\n",
    "print(\"Accuracy: {0:.4f}\".format(metrics.accuracy_score(y_test, pred1)))\n",
    "print(\"Recall: {0:.4f}\".format(metrics.recall_score(y_test, pred1, pos_label = \"above_avg\", average = \"binary\")))\n",
    "print(\"Precision: {0:.4f}\".format(metrics.precision_score(y_test, pred1, pos_label = \"above_avg\", average = \"binary\")))\n",
    "print(\"F1 score: {0:.4f}\".format(metrics.f1_score(y_test, pred1, pos_label = \"above_avg\", average = \"binary\")))"
   ]
  },
  {
   "cell_type": "markdown",
   "metadata": {},
   "source": [
    "### Standardization\n",
    "Each variable is scaled to a distribution with 0 mean, 1 standard deviation."
   ]
  },
  {
   "cell_type": "code",
   "execution_count": 35,
   "metadata": {},
   "outputs": [],
   "source": [
    "#use same scaling to train and test sets\n",
    "scale1 = preprocessing.StandardScaler().fit(X_train)\n",
    "X_train_scale1 = scale1.transform(X_train)\n",
    "X_test_scale1 = scale1.transform(X_test)"
   ]
  },
  {
   "cell_type": "code",
   "execution_count": 39,
   "metadata": {},
   "outputs": [
    {
     "name": "stdout",
     "output_type": "stream",
     "text": [
      "Best score:  0.766197096456693\n",
      "Corresponding parms:  {'n_neighbors': 1}\n",
      "Model description:  KNeighborsClassifier(algorithm='auto', leaf_size=30, metric='minkowski',\n",
      "                     metric_params=None, n_jobs=None, n_neighbors=1, p=2,\n",
      "                     weights='uniform')\n",
      "Accuracy: 0.7562\n",
      "Recall: 0.7616\n",
      "Precision: 0.7798\n",
      "F1 score: 0.7706\n"
     ]
    }
   ],
   "source": [
    "model2 = GridSearchCV(KNeighborsClassifier(), param_grid = grid1, cv = 10, scoring = \"accuracy\")\n",
    "model2.fit(X_train_scale1, y_train)\n",
    "\n",
    "#show tuning results\n",
    "print(\"Best score: \", model2.best_score_)\n",
    "print(\"Corresponding parms: \", model2.best_params_)\n",
    "print(\"Model description: \", model2.best_estimator_)\n",
    "\n",
    "#predict on test set\n",
    "pred2 = model2.predict(X_test_scale1)\n",
    "\n",
    "#show prediction performance\n",
    "print(\"Accuracy: {0:.4f}\".format(metrics.accuracy_score(y_test, pred2)))\n",
    "print(\"Recall: {0:.4f}\".format(metrics.recall_score(y_test, pred2, pos_label = \"above_avg\", average = \"binary\")))\n",
    "print(\"Precision: {0:.4f}\".format(metrics.precision_score(y_test, pred2, pos_label = \"above_avg\", average = \"binary\")))\n",
    "print(\"F1 score: {0:.4f}\".format(metrics.f1_score(y_test, pred2, pos_label = \"above_avg\", average = \"binary\")))"
   ]
  },
  {
   "cell_type": "markdown",
   "metadata": {},
   "source": [
    "### Normalization\n",
    "Each variable is scaled to a [0, 1] range."
   ]
  },
  {
   "cell_type": "code",
   "execution_count": 37,
   "metadata": {},
   "outputs": [],
   "source": [
    "scale2 = preprocessing.MinMaxScaler().fit(X_train)\n",
    "X_train_scale2 = scale2.transform(X_train)\n",
    "X_test_scale2 = scale2.transform(X_test)"
   ]
  },
  {
   "cell_type": "code",
   "execution_count": 41,
   "metadata": {},
   "outputs": [
    {
     "name": "stdout",
     "output_type": "stream",
     "text": [
      "Best score:  0.7568343996062993\n",
      "Corresponding parms:  {'n_neighbors': 1}\n",
      "Model description:  KNeighborsClassifier(algorithm='auto', leaf_size=30, metric='minkowski',\n",
      "                     metric_params=None, n_jobs=None, n_neighbors=1, p=2,\n",
      "                     weights='uniform')\n",
      "Accuracy: 0.4906\n",
      "Recall: 0.8953\n",
      "Precision: 0.5151\n",
      "F1 score: 0.6539\n"
     ]
    },
    {
     "data": {
      "text/plain": [
       "array([[154,  18],\n",
       "       [145,   3]], dtype=int64)"
      ]
     },
     "execution_count": 41,
     "metadata": {},
     "output_type": "execute_result"
    }
   ],
   "source": [
    "model3 = GridSearchCV(KNeighborsClassifier(), param_grid = grid1, cv = 10, scoring = \"accuracy\")\n",
    "model3.fit(X_train_scale2, y_train)\n",
    "\n",
    "#show tuning results\n",
    "print(\"Best score: \", model3.best_score_)\n",
    "print(\"Corresponding parms: \", model3.best_params_)\n",
    "print(\"Model description: \", model3.best_estimator_)\n",
    "\n",
    "#predict on test set\n",
    "pred3 = model3.predict(X_test)\n",
    "\n",
    "#show prediction performance\n",
    "print(\"Accuracy: {0:.4f}\".format(metrics.accuracy_score(y_test, pred3)))\n",
    "print(\"Recall: {0:.4f}\".format(metrics.recall_score(y_test, pred3, pos_label = \"above_avg\", average = \"binary\")))\n",
    "print(\"Precision: {0:.4f}\".format(metrics.precision_score(y_test, pred3, pos_label = \"above_avg\", average = \"binary\")))\n",
    "print(\"F1 score: {0:.4f}\".format(metrics.f1_score(y_test, pred3, pos_label = \"above_avg\", average = \"binary\")))"
   ]
  },
  {
   "cell_type": "markdown",
   "metadata": {},
   "source": [
    "## Visualization"
   ]
  },
  {
   "cell_type": "code",
   "execution_count": null,
   "metadata": {},
   "outputs": [],
   "source": []
  },
  {
   "cell_type": "code",
   "execution_count": null,
   "metadata": {},
   "outputs": [],
   "source": []
  },
  {
   "cell_type": "code",
   "execution_count": null,
   "metadata": {},
   "outputs": [],
   "source": []
  },
  {
   "cell_type": "code",
   "execution_count": null,
   "metadata": {},
   "outputs": [],
   "source": []
  },
  {
   "cell_type": "code",
   "execution_count": null,
   "metadata": {},
   "outputs": [],
   "source": []
  }
 ],
 "metadata": {
  "kernelspec": {
   "display_name": "Python 3",
   "language": "python",
   "name": "python3"
  },
  "language_info": {
   "codemirror_mode": {
    "name": "ipython",
    "version": 3
   },
   "file_extension": ".py",
   "mimetype": "text/x-python",
   "name": "python",
   "nbconvert_exporter": "python",
   "pygments_lexer": "ipython3",
   "version": "3.7.3"
  }
 },
 "nbformat": 4,
 "nbformat_minor": 2
}
