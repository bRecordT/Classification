{
 "cells": [
  {
   "cell_type": "markdown",
   "metadata": {},
   "source": [
    "# Support Vector Machines (SVM)"
   ]
  },
  {
   "cell_type": "code",
   "execution_count": 5,
   "metadata": {},
   "outputs": [
    {
     "name": "stdout",
     "output_type": "stream",
     "text": [
      "G:\\Archive\n"
     ]
    }
   ],
   "source": [
    "import numpy as np\n",
    "import pandas as pd\n",
    "from sklearn.model_selection import train_test_split, GridSearchCV \n",
    "from sklearn.svm import SVC\n",
    "from sklearn.preprocessing import StandardScaler\n",
    "from sklearn import metrics\n",
    "\n",
    "%cd \"G:/Archive\""
   ]
  },
  {
   "cell_type": "markdown",
   "metadata": {},
   "source": [
    "## Data Prep"
   ]
  },
  {
   "cell_type": "code",
   "execution_count": 2,
   "metadata": {},
   "outputs": [],
   "source": [
    "#load data\n",
    "data = pd.read_csv(\"data/wine quality red.csv\", header = 0)\n",
    "\n",
    "#aggregate into binary classification problem\n",
    "data[\"quality\"] = pd.Categorical(np.where(data[\"quality\"] > 5, \"above_avg\", \"below_avg\"))\n",
    "\n",
    "#split data\n",
    "X = data.iloc[:, :11]\n",
    "y = data.iloc[:, 11]\n",
    "X_train, X_test, y_train, y_test = train_test_split(X, y, test_size = 0.2, random_state = 1234)"
   ]
  },
  {
   "cell_type": "markdown",
   "metadata": {},
   "source": [
    "## Searching Optimal Parameters\n",
    "Standardize data first"
   ]
  },
  {
   "cell_type": "code",
   "execution_count": 4,
   "metadata": {},
   "outputs": [],
   "source": [
    "#use same scaling to train and test sets\n",
    "scale1 = StandardScaler().fit(X_train)\n",
    "X_train_scale1 = scale1.transform(X_train)\n",
    "X_test_scale1 = scale1.transform(X_test)"
   ]
  },
  {
   "cell_type": "code",
   "execution_count": 8,
   "metadata": {},
   "outputs": [
    {
     "name": "stdout",
     "output_type": "stream",
     "text": [
      "Best score:  0.7599409448818898\n",
      "Corresponding parms:  {'C': 10.0, 'gamma': 1.0, 'kernel': 'rbf'}\n",
      "Model description:  SVC(C=10.0, break_ties=False, cache_size=200, class_weight=None, coef0=0.0,\n",
      "    decision_function_shape='ovr', degree=3, gamma=1.0, kernel='rbf',\n",
      "    max_iter=-1, probability=False, random_state=None, shrinking=True,\n",
      "    tol=0.001, verbose=False)\n",
      "Accuracy: 0.7656\n",
      "Recall: 0.8547\n",
      "Precision: 0.7462\n",
      "F1 score: 0.7967\n"
     ]
    }
   ],
   "source": [
    "#tuning parameter: kernel function, gamma, cost\n",
    "#10-fold cv with accuracy as target metrics\n",
    "grid1 = {\"kernel\": [\"rbf\", \"linear\"],\n",
    "         \"gamma\": 0.1 * np.power(10, range(0, 4)),\n",
    "         \"C\":  0.1 * np.power(10, range(0, 4))}\n",
    "model1 = GridSearchCV(SVC(), param_grid = grid1, cv = 10, scoring = \"accuracy\")\n",
    "model1.fit(X_train_scale1, y_train)\n",
    "\n",
    "#show tuning results\n",
    "print(\"Best score: \", model1.best_score_)\n",
    "print(\"Corresponding parms: \", model1.best_params_)\n",
    "print(\"Model description: \", model1.best_estimator_)\n",
    "\n",
    "#predict on test set\n",
    "pred1 = model1.predict(X_test_scale1)\n",
    "\n",
    "#show prediction performance\n",
    "print(\"Accuracy: {0:.4f}\".format(metrics.accuracy_score(y_test, pred1)))\n",
    "print(\"Recall: {0:.4f}\".format(metrics.recall_score(y_test, pred1, pos_label = \"above_avg\", average = \"binary\")))\n",
    "print(\"Precision: {0:.4f}\".format(metrics.precision_score(y_test, pred1, pos_label = \"above_avg\", average = \"binary\")))\n",
    "print(\"F1 score: {0:.4f}\".format(metrics.f1_score(y_test, pred1, pos_label = \"above_avg\", average = \"binary\")))"
   ]
  },
  {
   "cell_type": "markdown",
   "metadata": {},
   "source": [
    "## Visualization"
   ]
  },
  {
   "cell_type": "code",
   "execution_count": null,
   "metadata": {},
   "outputs": [],
   "source": []
  },
  {
   "cell_type": "code",
   "execution_count": null,
   "metadata": {},
   "outputs": [],
   "source": []
  },
  {
   "cell_type": "code",
   "execution_count": null,
   "metadata": {},
   "outputs": [],
   "source": []
  },
  {
   "cell_type": "code",
   "execution_count": null,
   "metadata": {},
   "outputs": [],
   "source": []
  },
  {
   "cell_type": "code",
   "execution_count": null,
   "metadata": {},
   "outputs": [],
   "source": []
  }
 ],
 "metadata": {
  "kernelspec": {
   "display_name": "Python 3",
   "language": "python",
   "name": "python3"
  },
  "language_info": {
   "codemirror_mode": {
    "name": "ipython",
    "version": 3
   },
   "file_extension": ".py",
   "mimetype": "text/x-python",
   "name": "python",
   "nbconvert_exporter": "python",
   "pygments_lexer": "ipython3",
   "version": "3.7.3"
  }
 },
 "nbformat": 4,
 "nbformat_minor": 2
}
