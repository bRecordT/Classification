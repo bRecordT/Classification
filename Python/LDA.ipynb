{
 "cells": [
  {
   "cell_type": "markdown",
   "metadata": {},
   "source": [
    "# Discriminant Analysis"
   ]
  },
  {
   "cell_type": "code",
   "execution_count": 4,
   "metadata": {},
   "outputs": [
    {
     "name": "stdout",
     "output_type": "stream",
     "text": [
      "G:\\Archive\n"
     ]
    }
   ],
   "source": [
    "import numpy as np\n",
    "import pandas as pd\n",
    "from sklearn.model_selection import train_test_split, cross_val_score\n",
    "from sklearn.discriminant_analysis import LinearDiscriminantAnalysis, QuadraticDiscriminantAnalysis\n",
    "from sklearn import metrics\n",
    "\n",
    "%cd \"G:/Archive\""
   ]
  },
  {
   "cell_type": "markdown",
   "metadata": {},
   "source": [
    "## Data Prep"
   ]
  },
  {
   "cell_type": "code",
   "execution_count": 2,
   "metadata": {},
   "outputs": [],
   "source": [
    "#load data\n",
    "data = pd.read_csv(\"data/wine quality red.csv\", header = 0)\n",
    "\n",
    "#aggregate into binary classification problem\n",
    "data[\"quality\"] = pd.Categorical(np.where(data[\"quality\"] > 5, \"above_avg\", \"below_avg\"))\n",
    "\n",
    "#split data\n",
    "X = data.iloc[:, :11]\n",
    "y = data.iloc[:, 11]\n",
    "X_train, X_test, y_train, y_test = train_test_split(X, y, test_size = 0.2, random_state = 1234)"
   ]
  },
  {
   "cell_type": "markdown",
   "metadata": {},
   "source": [
    "## Linear Discriminant Analysis (LDA)"
   ]
  },
  {
   "cell_type": "code",
   "execution_count": 7,
   "metadata": {},
   "outputs": [
    {
     "name": "stdout",
     "output_type": "stream",
     "text": [
      "Average cross-validation score:  0.7357344980314962\n",
      "Accuracy: 0.7875\n",
      "Recall: 0.7791\n",
      "Precision: 0.8171\n",
      "F1 score: 0.7976\n"
     ]
    }
   ],
   "source": [
    "#no tuning parameters\n",
    "#no need to scale for DA\n",
    "#be careful about var types: continuous independent var and categorical dependent var\n",
    "#contrast to ANOVA\n",
    "#10-fold cv with accuracy as target metrics\n",
    "model1 = LinearDiscriminantAnalysis()\n",
    "model1.fit(X_train, y_train)\n",
    "cv_score1 = cross_val_score(model1, X_train, y_train, cv = 10, scoring = \"accuracy\")\n",
    "\n",
    "#show cv results\n",
    "print(\"Average cross-validation score: \", np.mean(cv_score1))\n",
    "\n",
    "#predict on test set\n",
    "pred1 = model1.predict(X_test)\n",
    "\n",
    "#show prediction performance\n",
    "print(\"Accuracy: {0:.4f}\".format(metrics.accuracy_score(y_test, pred1)))\n",
    "print(\"Recall: {0:.4f}\".format(metrics.recall_score(y_test, pred1, pos_label = \"above_avg\", average = \"binary\")))\n",
    "print(\"Precision: {0:.4f}\".format(metrics.precision_score(y_test, pred1, pos_label = \"above_avg\", average = \"binary\")))\n",
    "print(\"F1 score: {0:.4f}\".format(metrics.f1_score(y_test, pred1, pos_label = \"above_avg\", average = \"binary\")))"
   ]
  },
  {
   "cell_type": "markdown",
   "metadata": {},
   "source": [
    "## Quadratic Discriminant Analysis (QDA)"
   ]
  },
  {
   "cell_type": "code",
   "execution_count": 8,
   "metadata": {},
   "outputs": [
    {
     "name": "stdout",
     "output_type": "stream",
     "text": [
      "Average cross-validation score:  0.7263779527559056\n",
      "Accuracy: 0.7250\n",
      "Recall: 0.8256\n",
      "Precision: 0.7100\n",
      "F1 score: 0.7634\n"
     ]
    }
   ],
   "source": [
    "model2 = QuadraticDiscriminantAnalysis()\n",
    "model2.fit(X_train, y_train)\n",
    "cv_score2 = cross_val_score(model2, X_train, y_train, cv = 10, scoring = \"accuracy\")\n",
    "\n",
    "#show cv results\n",
    "print(\"Average cross-validation score: \", np.mean(cv_score2))\n",
    "\n",
    "#predict on test set\n",
    "pred2 = model2.predict(X_test)\n",
    "\n",
    "#show prediction performance\n",
    "print(\"Accuracy: {0:.4f}\".format(metrics.accuracy_score(y_test, pred2)))\n",
    "print(\"Recall: {0:.4f}\".format(metrics.recall_score(y_test, pred2, pos_label = \"above_avg\", average = \"binary\")))\n",
    "print(\"Precision: {0:.4f}\".format(metrics.precision_score(y_test, pred2, pos_label = \"above_avg\", average = \"binary\")))\n",
    "print(\"F1 score: {0:.4f}\".format(metrics.f1_score(y_test, pred2, pos_label = \"above_avg\", average = \"binary\")))"
   ]
  },
  {
   "cell_type": "markdown",
   "metadata": {},
   "source": [
    "## Visualization"
   ]
  },
  {
   "cell_type": "code",
   "execution_count": null,
   "metadata": {},
   "outputs": [],
   "source": []
  },
  {
   "cell_type": "code",
   "execution_count": null,
   "metadata": {},
   "outputs": [],
   "source": []
  },
  {
   "cell_type": "code",
   "execution_count": null,
   "metadata": {},
   "outputs": [],
   "source": []
  },
  {
   "cell_type": "code",
   "execution_count": null,
   "metadata": {},
   "outputs": [],
   "source": []
  },
  {
   "cell_type": "code",
   "execution_count": null,
   "metadata": {},
   "outputs": [],
   "source": []
  }
 ],
 "metadata": {
  "kernelspec": {
   "display_name": "Python 3",
   "language": "python",
   "name": "python3"
  },
  "language_info": {
   "codemirror_mode": {
    "name": "ipython",
    "version": 3
   },
   "file_extension": ".py",
   "mimetype": "text/x-python",
   "name": "python",
   "nbconvert_exporter": "python",
   "pygments_lexer": "ipython3",
   "version": "3.7.3"
  }
 },
 "nbformat": 4,
 "nbformat_minor": 2
}
